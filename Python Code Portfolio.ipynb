{
 "cells": [
  {
   "cell_type": "markdown",
   "metadata": {},
   "source": [
    "# Python Code Portfolio\n",
    "### Dayton Jennings\n",
    "### SP19-BL-INFO-I590-9772"
   ]
  },
  {
   "cell_type": "markdown",
   "metadata": {},
   "source": [
    "This portfolio is smaller in comparison to the R portfolio because I took FA18: 14197 Python last semester and wanted to focus on another programing language for the majority of my time this semester. "
   ]
  },
  {
   "cell_type": "markdown",
   "metadata": {},
   "source": [
    "### Important Packages in Python"
   ]
  },
  {
   "cell_type": "code",
   "execution_count": 11,
   "metadata": {},
   "outputs": [],
   "source": [
    "#Import Packages to use for Python\n",
    "    #numpy\n",
    "import numpy as np\n",
    "    #pandas\n",
    "import pandas as pd\n",
    "    #matplotlib.pyplot\n",
    "import matplotlib.pyplot as plt\n",
    "    #matplotlib.mlab\n",
    "import matplotlib.mlab as mlab\n",
    "    #pylab\n",
    "import pylab as plt"
   ]
  },
  {
   "cell_type": "markdown",
   "metadata": {},
   "source": [
    "### Importing Data"
   ]
  },
  {
   "cell_type": "code",
   "execution_count": 8,
   "metadata": {},
   "outputs": [],
   "source": [
    "#This importing of data was for the iris data set:\n",
    "iris = pd.read_csv(\"C:/Users/dcjen/OneDrive/Documents/IU Graduate School/Applied Data Science/iris.data\",sep = \",\", header = None)\n",
    "#If I execute this command now, then it would show I have no column names.\n",
    "iris.head()\n",
    "iris.columns = [\"Sepal_length\", \"Sepal_width\", \"Petal_length\", \"Petal_width\", \"Class\"]\n",
    "#Based on the way I imported the data, I needed to specify the names of the columns after importing the data. \n",
    "\n",
    "#Source: FA18: Python 14197"
   ]
  },
  {
   "cell_type": "code",
   "execution_count": null,
   "metadata": {},
   "outputs": [],
   "source": [
    "#Example\n",
    "# Import pickle package\n",
    "import pickle\n",
    "\n",
    "# Open pickle file and load data: d\n",
    "with open('data.pkl', 'rb') as file:\n",
    "    d = pickle.load(file)\n",
    "\n",
    "# Print d\n",
    "print(d)\n",
    "\n",
    "# Print datatype of d\n",
    "print(type(d))\n",
    "\n",
    "#Source: Data Camp"
   ]
  },
  {
   "cell_type": "markdown",
   "metadata": {},
   "source": [
    "### Wrangling"
   ]
  },
  {
   "cell_type": "code",
   "execution_count": null,
   "metadata": {},
   "outputs": [],
   "source": [
    "#List manipulation\n",
    "# Create the areas list\n",
    "areas = [\"hallway\", 11.25, \"kitchen\", 18.0, \"living room\", 20.0, \"bedroom\", 10.75, \"bathroom\", 9.50]\n",
    "\n",
    "# Correct the bathroom area\n",
    "areas[-1] = 10.50\n",
    "\n",
    "# Change \"living room\" to \"chill zone\"\n",
    "areas[4] = \"chill zone\"\n",
    "\n",
    "#Source: DataCamp"
   ]
  },
  {
   "cell_type": "code",
   "execution_count": null,
   "metadata": {},
   "outputs": [],
   "source": [
    "#This has both importing data and wrangling involved. I want to show a complete code chunck for example. \n",
    "#import csv and change column names\n",
    "columns = ['ID', 'A2','A3', 'A4', 'A5', 'A6', 'A7', 'A8', 'A9', 'A10', 'CLASS']\n",
    "df = pd.read_csv('C:/Users/Dayton Jennings/Documents/IU Graduate School/Python/Final Project/wisconsinbreastcancer.txt',sep = ',', names=columns)\n",
    "df['A7']=df['A7'].replace('?',np.NaN)\n",
    "\n",
    "#convert back to numeric\n",
    "df['A7'] = pd.to_numeric(df['A7'], errors='coerce')\n",
    "\n",
    "#•Report how many NaN.\n",
    "countNaN=df['A7'].isnull().sum()\n",
    "\n",
    "\n",
    "#change values of NaN to mean\n",
    "df['A7'] = df['A7'].fillna((df['A7'].mean()))\n",
    "\n",
    "df = df.astype(int)\n",
    "\n",
    "#Source: Final Project FA18: 14197"
   ]
  },
  {
   "cell_type": "code",
   "execution_count": null,
   "metadata": {},
   "outputs": [],
   "source": [
    "#List manipulation\n",
    "# Create the areas list\n",
    "areas = [\"hallway\", 11.25, \"kitchen\", 18.0, \"living room\", 20.0, \"bedroom\", 10.75, \"bathroom\", 9.50]\n",
    "\n",
    "# Correct the bathroom area\n",
    "areas[-1] = 10.50\n",
    "\n",
    "# Change \"living room\" to \"chill zone\"\n",
    "areas[4] = \"chill zone\"\n",
    "\n",
    "#Source: DataCamp"
   ]
  },
  {
   "cell_type": "markdown",
   "metadata": {},
   "source": [
    "### Data Visualization"
   ]
  },
  {
   "cell_type": "markdown",
   "metadata": {},
   "source": [
    "Just like in R, these following commands will help gain a better visual understanding of your data before diving into the data in the case it's not tidy."
   ]
  },
  {
   "cell_type": "code",
   "execution_count": null,
   "metadata": {},
   "outputs": [],
   "source": [
    "#df is the place holder for the data set you would be working with in real life. \n",
    "df.head()\n",
    "df.tail()\n",
    "df.describe() #This is the same as summary() in R.\n",
    "df.shape() #This is the same as dim() in R.\n",
    "\n",
    "#Source: Datacamp & FA18: 14197"
   ]
  },
  {
   "cell_type": "code",
   "execution_count": null,
   "metadata": {},
   "outputs": [],
   "source": [
    "#These are different variations of histogram plots based upon different columns from our final project \n",
    "\n",
    "# histagram A2\n",
    "n,bins,patches=plt.hist(df.A2,density=True,bins=10, facecolor='green', alpha=0.5)\n",
    "\n",
    "plt.ylabel('Probability')\n",
    "plt.xlabel('Weight')\n",
    "#Display histogram\n",
    "\n",
    "plt.show()\n",
    "\n",
    "\n",
    "#Histagram A3\n",
    "n,bins,patches=plt.hist(df.A3,density=True,bins=10, facecolor='blue', alpha=0.5)\n",
    "\n",
    "plt.show()\n",
    "\n",
    "#Histagram A4\n",
    "n,bins,patches=plt.hist(df.A4,density=True,bins=10, facecolor='orange', alpha=0.5)\n",
    "\n",
    "plt.show()"
   ]
  },
  {
   "cell_type": "code",
   "execution_count": null,
   "metadata": {},
   "outputs": [],
   "source": [
    "#create a range from 1 to 15 or more\n",
    "ks = range(1, 15)\n",
    "\n",
    "#create an empty list for inertias values \n",
    "inertias = []\n",
    "\n",
    "#use for loop to calculate KMeans for each values\n",
    "for k in ks:\n",
    "    km = KMeans(n_clusters=k)\n",
    "    km=km.fit(df1)\n",
    "    inertias.append(km.inertia_)\n",
    "     \n",
    "\n",
    "# Plot ks vs inertias\n",
    "plt.plot(ks, inertias, 'bx-')\n",
    "plt.xlabel('Number of Clusters, k')\n",
    "plt.ylabel('Inertia')\n",
    "plt.title('Elbow Method For Optimal k')\n",
    "plt.xticks(ks)\n",
    "plt.show()\n",
    "\n",
    "print(\"The elbow point is at 2, so the optimal number of clusters is 2.\")\n",
    "#Source: Final Project FA18: 14197"
   ]
  },
  {
   "cell_type": "code",
   "execution_count": null,
   "metadata": {},
   "outputs": [],
   "source": [
    "#Box plot of SD's\n",
    "stat_tab = pd.DataFrame()\n",
    "#Calc sd and fill\n",
    "sd_col = (df1.std())\n",
    "stat_tab['Stan Dev'] = round(sd_col,1)\n",
    "print(stat_tab)\n",
    "\n",
    "color = dict(boxes='DarkGreen', whiskers='DarkOrange', medians='DarkBlue', caps='Gray')\n",
    "stat_tab.plot(kind='box', color=color, sym='r+',title='Variation in column values')\n",
    "\n",
    "#Source: Final Project FA18: 14197"
   ]
  },
  {
   "cell_type": "markdown",
   "metadata": {},
   "source": [
    "### Analysis"
   ]
  },
  {
   "cell_type": "code",
   "execution_count": null,
   "metadata": {},
   "outputs": [],
   "source": [
    "#This is a cluster\n",
    "#import KMeans - use sklearn.cluster create KMeans model for n_cluster = 4\n",
    "\n",
    "from sklearn.cluster import KMeans\n",
    "km = KMeans(n_clusters=4)\n",
    "\n",
    "#fit model to your data\n",
    "km.fit(df1)\n",
    "x=km.fit_predict(df1)\n",
    "print(x)\n",
    "\n",
    "#Source: FA18:14197"
   ]
  },
  {
   "cell_type": "code",
   "execution_count": null,
   "metadata": {},
   "outputs": [],
   "source": [
    "#These final two boxes are a representation of an analysis I did for my end of the year project in FA18: 14197 Python\n",
    "\n",
    "#Error Rate Function, B for Benign, M for Malign\n",
    "def ErrorRate(labels,CLASS):\n",
    "    totlabel4 = 233\n",
    "    totlabel2 = 466\n",
    "    totwrong2 = 11\n",
    "    totwrong4 = 19\n",
    "    totaldata = 669\n",
    "    totalLnC = totwrong2 + totwrong4\n",
    "    Benign_error = (totwrong4 / totlabel2)\n",
    "    Malign_error = (totwrong2 / totlabel4)\n",
    "    Total_error = (totalLnC / totaldata)\n",
    "\n",
    "    return(Benign_error * 100)\n",
    "    return(Malign_error * 100)\n",
    "    return(Total_error * 100)\n",
    "    \n",
    "print(\"The error rate for benign: \", Benign_error)\n",
    "print(\"The error rate for malign: \", Malign_error)\n",
    "print(\"The total error rate: \", Total_error)\n",
    "\n",
    "The error rate for benign:  4.07725321888412\n",
    "The error rate for malign:  4.721030042918455\n",
    "The total error rate:  4.291845493562231"
   ]
  },
  {
   "cell_type": "markdown",
   "metadata": {},
   "source": [
    "### Report Reflection\n",
    "Our results from the ErrorRate function we calculated exceeded expectations. They exceeded expectations for two reasons. First, the model we coded could only calculate with manual input and not automatically. Secondly, our error rate calculations for all three categories never exceeded 5%. This translates to a 95% accuracy rating between the real data points in column 'CLASS' and the predictions we calculated from our K-means Clustering predictive model. Our model is not optimal. There could be minor changes in the coding that could improve the efficiency of our model and how we would process the data; however, we were able to formulate a model that was able to predict a 95% accuracy rate. Overall, we would say the model we created throughout the 3 phases was challenging but rewarding. If we did not collaborate together as a group and properly code each phase, our model we would not have been able to succeed in producing low error rates for our final analytical piece of the project."
   ]
  },
  {
   "cell_type": "code",
   "execution_count": null,
   "metadata": {},
   "outputs": [],
   "source": []
  }
 ],
 "metadata": {
  "kernelspec": {
   "display_name": "Python 3",
   "language": "python",
   "name": "python3"
  },
  "language_info": {
   "codemirror_mode": {
    "name": "ipython",
    "version": 3
   },
   "file_extension": ".py",
   "mimetype": "text/x-python",
   "name": "python",
   "nbconvert_exporter": "python",
   "pygments_lexer": "ipython3",
   "version": "3.7.1"
  }
 },
 "nbformat": 4,
 "nbformat_minor": 2
}
